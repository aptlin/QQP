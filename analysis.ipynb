{
 "cells": [
  {
   "cell_type": "markdown",
   "metadata": {},
   "source": [
    "# Indentification of Semantic Duplicates\n",
    "## Dilettante Dive into the Quora Data Set"
   ]
  },
  {
   "cell_type": "markdown",
   "metadata": {},
   "source": [
    "# Introduction"
   ]
  },
  {
   "cell_type": "markdown",
   "metadata": {},
   "source": [
    "Finding and quantifying semantic patterns is key to successful natural\n",
    "language processing and knowledge organisation. One of the most\n",
    "important challenges in NLP is determining whether two texts have the\n",
    "same intent or not, and machine learning techniques provide us a\n",
    "necessary and diverse toolset to approach this problem.\n",
    "In January 2017, [Quora published its first public data set](https://data.quora.com/First-Quora-Dataset-Release-Question-Pairs) on\n",
    "duplicate and related human-labelled questions compiled from the\n",
    "actual Quora data. How can we use it to predict whether two\n",
    "question-strings are duplicate or not?"
   ]
  },
  {
   "cell_type": "markdown",
   "metadata": {},
   "source": [
    "## Loading Modules and Data"
   ]
  },
  {
   "cell_type": "code",
   "execution_count": 1,
   "metadata": {
    "collapsed": true
   },
   "outputs": [],
   "source": [
    "import numpy as np # linear algebra\n",
    "import pandas as pd # data processing, CSV file I/O\n",
    "import matplotlib.pyplot as plt # visualisation\n",
    "\n",
    "training_filename = \"data/train.csv\"\n",
    "testing_filename = \"data/test.csv\"\n",
    "training_data = pd.read_csv(training_filename, encoding = 'utf8')"
   ]
  },
  {
   "cell_type": "markdown",
   "metadata": {},
   "source": [
    "Let's get a sneak peek at the training data at hand:"
   ]
  },
  {
   "cell_type": "code",
   "execution_count": 2,
   "metadata": {},
   "outputs": [
    {
     "data": {
      "text/html": [
       "<div>\n",
       "<style>\n",
       "    .dataframe thead tr:only-child th {\n",
       "        text-align: right;\n",
       "    }\n",
       "\n",
       "    .dataframe thead th {\n",
       "        text-align: left;\n",
       "    }\n",
       "\n",
       "    .dataframe tbody tr th {\n",
       "        vertical-align: top;\n",
       "    }\n",
       "</style>\n",
       "<table border=\"1\" class=\"dataframe\">\n",
       "  <thead>\n",
       "    <tr style=\"text-align: right;\">\n",
       "      <th></th>\n",
       "      <th>id</th>\n",
       "      <th>qid1</th>\n",
       "      <th>qid2</th>\n",
       "      <th>question1</th>\n",
       "      <th>question2</th>\n",
       "      <th>is_duplicate</th>\n",
       "    </tr>\n",
       "  </thead>\n",
       "  <tbody>\n",
       "    <tr>\n",
       "      <th>0</th>\n",
       "      <td>0</td>\n",
       "      <td>1</td>\n",
       "      <td>2</td>\n",
       "      <td>What is the step by step guide to invest in sh...</td>\n",
       "      <td>What is the step by step guide to invest in sh...</td>\n",
       "      <td>0</td>\n",
       "    </tr>\n",
       "    <tr>\n",
       "      <th>1</th>\n",
       "      <td>1</td>\n",
       "      <td>3</td>\n",
       "      <td>4</td>\n",
       "      <td>What is the story of Kohinoor (Koh-i-Noor) Dia...</td>\n",
       "      <td>What would happen if the Indian government sto...</td>\n",
       "      <td>0</td>\n",
       "    </tr>\n",
       "    <tr>\n",
       "      <th>2</th>\n",
       "      <td>2</td>\n",
       "      <td>5</td>\n",
       "      <td>6</td>\n",
       "      <td>How can I increase the speed of my internet co...</td>\n",
       "      <td>How can Internet speed be increased by hacking...</td>\n",
       "      <td>0</td>\n",
       "    </tr>\n",
       "    <tr>\n",
       "      <th>3</th>\n",
       "      <td>3</td>\n",
       "      <td>7</td>\n",
       "      <td>8</td>\n",
       "      <td>Why am I mentally very lonely? How can I solve...</td>\n",
       "      <td>Find the remainder when [math]23^{24}[/math] i...</td>\n",
       "      <td>0</td>\n",
       "    </tr>\n",
       "    <tr>\n",
       "      <th>4</th>\n",
       "      <td>4</td>\n",
       "      <td>9</td>\n",
       "      <td>10</td>\n",
       "      <td>Which one dissolve in water quikly sugar, salt...</td>\n",
       "      <td>Which fish would survive in salt water?</td>\n",
       "      <td>0</td>\n",
       "    </tr>\n",
       "    <tr>\n",
       "      <th>5</th>\n",
       "      <td>5</td>\n",
       "      <td>11</td>\n",
       "      <td>12</td>\n",
       "      <td>Astrology: I am a Capricorn Sun Cap moon and c...</td>\n",
       "      <td>I'm a triple Capricorn (Sun, Moon and ascendan...</td>\n",
       "      <td>1</td>\n",
       "    </tr>\n",
       "    <tr>\n",
       "      <th>6</th>\n",
       "      <td>6</td>\n",
       "      <td>13</td>\n",
       "      <td>14</td>\n",
       "      <td>Should I buy tiago?</td>\n",
       "      <td>What keeps childern active and far from phone ...</td>\n",
       "      <td>0</td>\n",
       "    </tr>\n",
       "    <tr>\n",
       "      <th>7</th>\n",
       "      <td>7</td>\n",
       "      <td>15</td>\n",
       "      <td>16</td>\n",
       "      <td>How can I be a good geologist?</td>\n",
       "      <td>What should I do to be a great geologist?</td>\n",
       "      <td>1</td>\n",
       "    </tr>\n",
       "    <tr>\n",
       "      <th>8</th>\n",
       "      <td>8</td>\n",
       "      <td>17</td>\n",
       "      <td>18</td>\n",
       "      <td>When do you use シ instead of し?</td>\n",
       "      <td>When do you use \"&amp;\" instead of \"and\"?</td>\n",
       "      <td>0</td>\n",
       "    </tr>\n",
       "    <tr>\n",
       "      <th>9</th>\n",
       "      <td>9</td>\n",
       "      <td>19</td>\n",
       "      <td>20</td>\n",
       "      <td>Motorola (company): Can I hack my Charter Moto...</td>\n",
       "      <td>How do I hack Motorola DCX3400 for free internet?</td>\n",
       "      <td>0</td>\n",
       "    </tr>\n",
       "  </tbody>\n",
       "</table>\n",
       "</div>"
      ],
      "text/plain": [
       "   id  qid1  qid2                                          question1  \\\n",
       "0   0     1     2  What is the step by step guide to invest in sh...   \n",
       "1   1     3     4  What is the story of Kohinoor (Koh-i-Noor) Dia...   \n",
       "2   2     5     6  How can I increase the speed of my internet co...   \n",
       "3   3     7     8  Why am I mentally very lonely? How can I solve...   \n",
       "4   4     9    10  Which one dissolve in water quikly sugar, salt...   \n",
       "5   5    11    12  Astrology: I am a Capricorn Sun Cap moon and c...   \n",
       "6   6    13    14                                Should I buy tiago?   \n",
       "7   7    15    16                     How can I be a good geologist?   \n",
       "8   8    17    18                    When do you use シ instead of し?   \n",
       "9   9    19    20  Motorola (company): Can I hack my Charter Moto...   \n",
       "\n",
       "                                           question2  is_duplicate  \n",
       "0  What is the step by step guide to invest in sh...             0  \n",
       "1  What would happen if the Indian government sto...             0  \n",
       "2  How can Internet speed be increased by hacking...             0  \n",
       "3  Find the remainder when [math]23^{24}[/math] i...             0  \n",
       "4            Which fish would survive in salt water?             0  \n",
       "5  I'm a triple Capricorn (Sun, Moon and ascendan...             1  \n",
       "6  What keeps childern active and far from phone ...             0  \n",
       "7          What should I do to be a great geologist?             1  \n",
       "8              When do you use \"&\" instead of \"and\"?             0  \n",
       "9  How do I hack Motorola DCX3400 for free internet?             0  "
      ]
     },
     "execution_count": 2,
     "metadata": {},
     "output_type": "execute_result"
    }
   ],
   "source": [
    "training_data.head(10)"
   ]
  },
  {
   "cell_type": "markdown",
   "metadata": {},
   "source": [
    "We are given the following parameters:\n",
    "\n",
    "-   **id** - the id of a training set question pair\n",
    "-   **qid1**, **qid2** - unique ids of each question\n",
    "-   **question1**, **question2** - the full text of each question\n",
    "-   **is\\_duplicate** - the target variable, set to 1 if question1 and\n",
    "    question2 have essentially the same meaning, and 0 otherwise."
   ]
  },
  {
   "cell_type": "code",
   "execution_count": 3,
   "metadata": {},
   "outputs": [
    {
     "name": "stdout",
     "output_type": "stream",
     "text": [
      "There are 404290 question pairs available for training.\n",
      "Among them, 36.92% are duplicates.\n",
      "There are 537933 unique questions considered.\n",
      "The number of questions that appear multiple times is 111780.\n"
     ]
    }
   ],
   "source": [
    "print('There are {} question pairs available for training.'.format(len(training_data)))\n",
    "print('Among them, {}% are duplicates.'.format(round(training_data['is_duplicate'].mean()*100, 2)))\n",
    "# find unique question ids\n",
    "qids = pd.Series(training_data['qid1'].tolist() + training_data['qid2'].tolist())\n",
    "print('There are {} unique questions considered.'.format(len(np.unique(qids))))\n",
    "print('The number of questions that appear multiple times is {}.'.format(np.sum(qids.value_counts() > 1)))"
   ]
  },
  {
   "cell_type": "markdown",
   "metadata": {},
   "source": [
    "Let's look at the distribution of question lengths:"
   ]
  },
  {
   "cell_type": "code",
   "execution_count": 4,
   "metadata": {},
   "outputs": [
    {
     "data": {
      "image/png": "[encoded data removed]",
      "text/plain": [
       "<matplotlib.figure.Figure at 0x7f59b193e320>"
      ]
     },
     "metadata": {},
     "output_type": "display_data"
    }
   ],
   "source": [
    "questions = pd.Series(list(set(training_data['question1'].tolist() + training_data['question2'].tolist())))\n",
    "question_lengths = questions.str.len().value_counts()\n",
    "plt.figure(figsize=(12, 5))\n",
    "plt.scatter(question_lengths, question_lengths.index)\n",
    "plt.xscale('log', nonposy='clip')\n",
    "plt.title('Log-Histogram of Question Length Counts')\n",
    "plt.xlabel('Number of Occurences of Question Length')\n",
    "plt.ylabel('Question Length')\n",
    "plt.hlines(10, 0, 1.9e4)\n",
    "plt.show()"
   ]
  },
  {
   "cell_type": "markdown",
   "metadata": {},
   "source": [
    "It seems that there is a minority of very short questions. We will see\n",
    "whether dropping them from the training data set will help us improve\n",
    "the accuracy of predictions."
   ]
  },
  {
   "cell_type": "markdown",
   "metadata": {},
   "source": [
    "## Balancing Classes"
   ]
  },
  {
   "cell_type": "markdown",
   "metadata": {},
   "source": [
    "We have already noticed that in the training data set the number of\n",
    "duplicates constitute about a third of the entire corpus. This may\n",
    "skew our predictions by increasing the number of false positives.\n",
    "There are 2 approaches I have tried to remediate this problem:\n",
    "\n",
    "-   generate an additional set of duplicate questions by\n",
    "    replacing each noun in a randomly chosen duplicate question with its\n",
    "    synonym, increasing the percentage content of duplicate questions to a\n",
    "    half of the entire data sets\n",
    "-   apply up-down scaling to the training dataframe, decreasing the\n",
    "    percentage content to about a fifth of the entire dataframe, which\n",
    "    [was estimated](https://www.kaggle.com/badat0202/estimate-distribution-of-data-in-lb) to be close to the percentage content of duplicates in\n",
    "    the test data set"
   ]
  },
  {
   "cell_type": "markdown",
   "metadata": {},
   "source": [
    "## Cleaning Data"
   ]
  },
  {
   "cell_type": "markdown",
   "metadata": {},
   "source": [
    "Our cleaning-up process is threefold:\n",
    "\n",
    "1.  We remove unnecessary punctuation, pad the words, deal with\n",
    "    non-ascii characters and fix simple typos.\n",
    "2.  SpaCy is used to replace quantities and other entities\n",
    "    with something more amenable to later processing by our machine\n",
    "    learning model.\n",
    "3.  We remove questions deemed too short to bear any meaningful content.\n",
    "4.  Finally, we oversample duplicates."
   ]
  },
  {
   "cell_type": "markdown",
   "metadata": {},
   "source": [
    "## Dealing with Missing Packages"
   ]
  },
  {
   "cell_type": "markdown",
   "metadata": {},
   "source": [
    "Since reproducible builds of [NixOS](https://nixos.org/) disallow the vanilla usage of `pip`\n",
    "for Python package management, we [first](https://github.com/NixOS/nixpkgs/pull/25804) [add](https://github.com/NixOS/nixpkgs/pull/25791) tools like `gensim` and\n",
    "`spaCy` to [Nixpkgs](https://nixos.org/nixpkgs/manual/).\n",
    "Now we are ready to proceed:"
   ]
  },
  {
   "cell_type": "code",
   "execution_count": 1,
   "metadata": {
    "collapsed": true
   },
   "outputs": [],
   "source": [
    "from preprocess import Preprocessor\n",
    "prep = Preprocessor(training_filename)\n",
    "training_data = prep.processed_questions()"
   ]
  },
  {
   "cell_type": "markdown",
   "metadata": {},
   "source": [
    "We save the data sets after each step so that the corresponding models\n",
    "could be compared later."
   ]
  },
  {
   "cell_type": "markdown",
   "metadata": {},
   "source": [
    "# Modelling"
   ]
  },
  {
   "cell_type": "markdown",
   "metadata": {},
   "source": [
    "## Building Naive Models"
   ]
  },
  {
   "cell_type": "markdown",
   "metadata": {},
   "source": [
    "To avoid the time-wasting bog of fine-tuning a deliberately chosen\n",
    "model which might not be the best choice to analyse the data, we build\n",
    "and improve upon a benchmark model."
   ]
  },
  {
   "cell_type": "markdown",
   "metadata": {},
   "source": [
    "### Naive"
   ]
  },
  {
   "cell_type": "markdown",
   "metadata": {},
   "source": [
    "LSTM (long short-term memory) recurrent neural network with a\n",
    "non-trainable word2vec embedding layer, inspired by [@lystdo](https://www.kaggle.com/lystdo/lstm-with-word2vec-embeddings), seems\n",
    "suitable, considering the success of LSTM models in a diverse range of\n",
    "natural language processing such as text compression and handwriting\n",
    "recognition.\n",
    "Note that we are going to train on the data set with oversampled and\n",
    "perturbated positive class."
   ]
  },
  {
   "cell_type": "code",
   "execution_count": 1,
   "metadata": {
    "collapsed": true
   },
   "outputs": [],
   "source": [
    "from models.naive_model import NaiveModel\n",
    "nm = NaiveModel()\n",
    "nm.predict()"
   ]
  },
  {
   "cell_type": "markdown",
   "metadata": {},
   "source": [
    "Ten epochs of the model require substantial computing resources &#x2013;\n",
    "running the snippet above took almost 17 hours on my laptop. The model\n",
    "with minimal fine-tuning gives us a score of 0.31985, while the\n",
    "logloss of the model validated on the training dataframe was 0.2480,\n",
    "which we would now try to improve.\n",
    "\n",
    "Our strategy is to identify relevant features and build a faster\n",
    "model."
   ]
  },
  {
   "cell_type": "markdown",
   "metadata": {},
   "source": [
    "### Aleph"
   ]
  },
  {
   "cell_type": "markdown",
   "metadata": {},
   "source": [
    "We will try to use less computationally expensive techniques.  \n",
    "First of all, we dispense with recurrent neural networks in our naive\n",
    "model and build upon [the work of Bradley Pallen](https://github.com/bradleypallen/keras-quora-question-pairs), constructing a\n",
    "Siamese neural network with 300-dimensional Google News Word2Vec\n",
    "embeddings branches passing through TimeDistributed Dense layers and\n",
    "merged to be processed via fully-connected Dense layers activated with\n",
    "ReLU.\n",
    "Then we reweigh the classes to account for the disparity in the class\n",
    "prevalence.\n",
    "\n",
    "-   **Training data set**: oversampled\n",
    "-   **Dense dimensions**: 137\n",
    "-   **Dropout rate for hidden layers**: 0.38"
   ]
  },
  {
   "cell_type": "code",
   "execution_count": 1,
   "metadata": {
    "collapsed": true
   },
   "outputs": [],
   "source": [
    "from models.aleph_model import Aleph\n",
    "aleph = Aleph()\n",
    "aleph.predict()"
   ]
  },
  {
   "cell_type": "markdown",
   "metadata": {},
   "source": [
    "For the speed the price is logloss: Aleph scores only 0.32497 on the\n",
    "LB.\n",
    "![img](img/accuracy_dynamics.png)"
   ]
  },
  {
   "cell_type": "markdown",
   "metadata": {},
   "source": [
    "### Bet"
   ]
  },
  {
   "cell_type": "markdown",
   "metadata": {},
   "source": [
    "-   based on Aleph\n",
    "-   added kernel constraints to Dense layers to ensure the maximum norm\n",
    "    does not exceed 3\n",
    "-   ordered Dense layers in the form of an inverted pyramid\n",
    "-   **Training data set**: oversampled\n",
    "-   **Dense dimensions**: 126\n",
    "-   **Dropout rate for hidden layers**: 0.37"
   ]
  },
  {
   "cell_type": "code",
   "execution_count": 1,
   "metadata": {
    "collapsed": true
   },
   "outputs": [],
   "source": [
    "from models.bet_model import Bet\n",
    "bet = Bet()\n",
    "bet.predict()"
   ]
  },
  {
   "cell_type": "markdown",
   "metadata": {},
   "source": [
    "The model seems to undertrain, judging by the fact that the validation\n",
    "accuracy is always bigger than the training accuracy, and gives us a\n",
    "worse score 0.33641.\n",
    "\n",
    "![img](img/2017-05-26-1043-beta_126_0.37-accuracy_dynamics.png)"
   ]
  },
  {
   "cell_type": "markdown",
   "metadata": {},
   "source": [
    "### Vet"
   ]
  },
  {
   "cell_type": "code",
   "execution_count": 1,
   "metadata": {
    "collapsed": true
   },
   "outputs": [],
   "source": [
    "from models.vet_model import Vet\n",
    "vet = Vet()\n",
    "vet.predict()"
   ]
  },
  {
   "cell_type": "markdown",
   "metadata": {},
   "source": [
    "-   based on Bet\n",
    "-   made the choice of the dropout rate for hidden layers more uniform\n",
    "    in the range 0.20 to 0.40\n",
    "-   increased the hidden layer dimensions to the range [280, 300]\n",
    "-   changed ReLU to PReLU\n",
    "-   removed the dropout after the batch normalisation of the merge layer\n",
    "-   removed kernel constraints\n",
    "-   flattened the pyramidal structure of the hidden layers\n",
    "-   **Training data set**: oversampled\n",
    "-   **Dense dimensions**: 282\n",
    "-   **Dropout rate for hidden layers**: 0.27\n",
    "\n",
    "![img](img/2017-05-26-1818-vet_282_0.27-accuracy_dynamics.png)\n",
    "\n",
    "The model evidently overtrains after the third epoch, and scores 0.35179, even\n",
    "worse than all the other models we have looked at."
   ]
  },
  {
   "cell_type": "markdown",
   "metadata": {},
   "source": [
    "### Gimmel"
   ]
  },
  {
   "cell_type": "code",
   "execution_count": 1,
   "metadata": {
    "collapsed": true
   },
   "outputs": [],
   "source": [
    "from models.gimmel_model import Gimmel\n",
    "gimmel = Gimmel()\n",
    "gimmel.predict()"
   ]
  },
  {
   "cell_type": "markdown",
   "metadata": {},
   "source": [
    "-   based on Vet\n",
    "-   added Krzysztof Dziedzic's [magic feature II](https://www.kaggle.com/c/quora-question-pairs/discussion/33287), inspired by @justfor's [implementation](https://www.kaggle.com/justfor/edges/code)\n",
    "-   added @tarobxl's [max kcore feature](https://www.kaggle.com/c/quora-question-pairs/discussion/33371).\n",
    "-   feeding custom features through a separate hidden layer with\n",
    "    sandwiching dropout and batch normalisation\n",
    "-   increased the range of the dropout rate to [0.25, 0.50]\n",
    "-   decreased the range of the hidden dimensions to [190, 275]\n",
    "-   organised the hidden layers into the pyramidal form\n",
    "-   switched to adam with a clipnorm as an optimizer\n",
    "-   changed the training data set\n",
    "-   **Training data set**: spaCy-treated, with shorties trimmed\n",
    "-   **Dense dimensions**: 214\n",
    "-   **Dropout rate for hidden layers**: 0.42\n",
    "\n",
    "![img](img/2017-05-27-1204-gimmel_214_0.42-accuracy_dynamics.png)\n",
    "\n",
    "The magic features play in, giving us the Public LB score of 0.24602."
   ]
  },
  {
   "cell_type": "markdown",
   "metadata": {},
   "source": [
    "### Dalet"
   ]
  },
  {
   "cell_type": "code",
   "execution_count": 1,
   "metadata": {
    "collapsed": true
   },
   "outputs": [],
   "source": [
    "from models.dalet_model import Dalet\n",
    "dalet = Dalet()\n",
    "dalet.predict()"
   ]
  },
  {
   "cell_type": "markdown",
   "metadata": {},
   "source": [
    "-   based on Gimmel\n",
    "-   custom features as a *pure* input layer with Dropout\n",
    "-   added [@abhishek's features](https://github.com/abhishekkrthakur/is_that_a_duplicate_quora_question) [provided](https://www.kaggle.com/c/quora-question-pairs/discussion/31284) by @raddar\n",
    "-   **Training data set**: spaCy-treated, with shorties trimmed\n",
    "-   **Dense dimensions**: 242\n",
    "-   **Dropout rate for hidden layers**: 0.32\n",
    "\n",
    "![img](img/2017-05-27-1945-dalet_242_0.32-accuracy_dynamics.png)\n",
    "\n",
    "The performance is very similar to Gimmel's, but Dalet seems to\n",
    "overfit more, as reflected in its score of 0.24801."
   ]
  },
  {
   "cell_type": "markdown",
   "metadata": {},
   "source": [
    "### He"
   ]
  },
  {
   "cell_type": "code",
   "execution_count": 1,
   "metadata": {
    "collapsed": true
   },
   "outputs": [],
   "source": [
    "from models.he_model import He\n",
    "he = He()\n",
    "he.predict()"
   ]
  },
  {
   "cell_type": "markdown",
   "metadata": {},
   "source": [
    "-   based on Dalet\n",
    "-   used the train data set with words stemmed and stopwords removed"
   ]
  },
  {
   "cell_type": "code",
   "execution_count": 1,
   "metadata": {
    "collapsed": true
   },
   "outputs": [],
   "source": [
    "from helpers.stem import Stem\n",
    "s = Stem()\n",
    "s.stem_questions()"
   ]
  },
  {
   "cell_type": "markdown",
   "metadata": {},
   "source": [
    "-   removed @abhishek's features in the attempt to avoid overfitting\n",
    "-   added @jturkewitz's [magic feature](https://www.kaggle.com/jturkewitz/magic-features-0-03-gain)"
   ]
  },
  {
   "cell_type": "code",
   "execution_count": 1,
   "metadata": {
    "collapsed": true
   },
   "outputs": [],
   "source": [
    "from helpers.magic import Magic\n",
    "m = Magic()\n",
    "m.spell()"
   ]
  },
  {
   "cell_type": "markdown",
   "metadata": {},
   "source": [
    "-   added a hidden layer for custom features for feature detection\n",
    "-   **Training data set**: spaCy-treated, with shorties trimmed, words\n",
    "    stemmed and stopwords removed\n",
    "-   **Dense dimensions**: 199\n",
    "-   **Dropout rate for hidden layers**: 0.49\n",
    "\n",
    "![img](img/2017-05-28-0605-he_199_0.49-accuracy_dynamics.png) Now, the\n",
    "model converges well, and no significant overlearning seems to\n",
    "occur. However, the score jumps up to 0.26713, and I make a hypothesis\n",
    "that stemming is to blame."
   ]
  },
  {
   "cell_type": "markdown",
   "metadata": {},
   "source": [
    "### Vav"
   ]
  },
  {
   "cell_type": "code",
   "execution_count": 1,
   "metadata": {
    "collapsed": true
   },
   "outputs": [],
   "source": [
    "from models.vav_model import Vav\n",
    "vav = Vav()\n",
    "vav.predict()"
   ]
  },
  {
   "cell_type": "markdown",
   "metadata": {},
   "source": [
    "-   based on the naive model (switched to LSTM)\n",
    "-   removed stemming, with stopwords still excluded"
   ]
  },
  {
   "cell_type": "code",
   "execution_count": 1,
   "metadata": {
    "collapsed": true
   },
   "outputs": [],
   "source": [
    "from helpers.stopword import StopwordTrim\n",
    "s = StopwordTrim()\n",
    "s.remove_stopwords()"
   ]
  },
  {
   "cell_type": "markdown",
   "metadata": {},
   "source": [
    "-   **Training data set**: spaCy-treated, with shorties trimmed and stopwords removed\n",
    "-   **Dense dimensions**: 198\n",
    "-   **Dropout rate for hidden layers**: 0.46\n",
    "\n",
    "![img](img/2017-05-28-2256-vav_198_0.46-accuracy_dynamics.png)\n",
    "The model converges quickly and seems to underlearn, but gives the\n",
    "best score so far &#x2013; 0.24360."
   ]
  },
  {
   "cell_type": "markdown",
   "metadata": {},
   "source": [
    "### Zayin"
   ]
  },
  {
   "cell_type": "code",
   "execution_count": 1,
   "metadata": {
    "collapsed": true
   },
   "outputs": [],
   "source": [
    "from models.zayin_model import Zayin\n",
    "zayin = Zayin()\n",
    "zayin.predict()"
   ]
  },
  {
   "cell_type": "markdown",
   "metadata": {},
   "source": [
    "-   based on Vav\n",
    "-   included Abhishek's features\n",
    "-   increased the dimensionality of the Dense layer for custom features\n",
    "    to the default for the others\n",
    "-   **Training data set**: spaCy-treated, with shorties trimmed and stopwords removed\n",
    "-   **Dense dimensions**: 215\n",
    "-   **Dropout rate for hidden layers**: 0.40\n",
    "\n",
    "![img](img/2017-05-29-1751-zayin_215_0.40-accuracy_dynamics.png)\n",
    "\n",
    "As we can see on the graph, the model is not as stable as the others\n",
    "in the beginning, but converges after the 7 epoch. The disparity\n",
    "between the training and validation set is not as big now if compared\n",
    "with Vav's, but the public LB score of 0.25464 indicates that the\n",
    "model generalises a bit worse than Vav."
   ]
  },
  {
   "cell_type": "markdown",
   "metadata": {},
   "source": [
    "### Khet"
   ]
  },
  {
   "cell_type": "code",
   "execution_count": 1,
   "metadata": {
    "collapsed": true
   },
   "outputs": [],
   "source": [
    "from models.khet_model import Khet\n",
    "khet = Khet()\n",
    "khet.predict()"
   ]
  },
  {
   "cell_type": "markdown",
   "metadata": {},
   "source": [
    "-   based on Zayin (switched from LSTM to the Convolution1D layers with\n",
    "    with GlobalMaxPooling1D and PReLU activation for the embedding\n",
    "    layers to improve the speed of training)\n",
    "-   removed Abhishek's features in the attempt to improve generalisation\n",
    "-   **Training data set**: spaCy-treated, with shorties trimmed and stopwords removed\n",
    "-   **Dense dimensions**: 261\n",
    "-   **Dropout rate for hidden layers**: 0.41\n",
    "\n",
    "![img](img/2017-05-29-2059-khet_261_0.41-accuracy_dynamics.png)\n",
    "\n",
    "We pay the price for delegating feature extraction to the model with\n",
    "speed, receiving the score of 0.27044."
   ]
  },
  {
   "cell_type": "markdown",
   "metadata": {},
   "source": [
    "## Comparing Models and Ensembling"
   ]
  },
  {
   "cell_type": "markdown",
   "metadata": {},
   "source": [
    "One of the ways to improve our prediction accuracy is to ensemble the\n",
    "different predictions we have.\n",
    "We resort to GM and AM averaging.\n",
    "First, let's combine all our predictions into one with the help of a\n",
    "geometric mean:"
   ]
  },
  {
   "cell_type": "code",
   "execution_count": 1,
   "metadata": {
    "collapsed": true
   },
   "outputs": [],
   "source": [
    "import glob\n",
    "import pandas as pd\n",
    "from scipy.stats.mstats import gmean\n",
    "\n",
    "predPath = \"ensembling/\"\n",
    "models = []\n",
    "\n",
    "for file_name in glob.glob(predPath + '*.csv'):\n",
    "    df = pd.read_csv(file_name, encoding = \"utf-8\")\n",
    "    models.append(df.ix[:, :1])\n",
    "\n",
    "total = pd.concat(models, axis=1)\n",
    "gm_df = pd.DataFrame()\n",
    "gm_df['is_duplicate'] = gmean(total, axis=1)\n",
    "gm_df['test_id'] = df.ix[:,1]\n",
    "gm_df.to_csv(\"gm_ensemble.csv\", index=False)"
   ]
  },
  {
   "cell_type": "markdown",
   "metadata": {},
   "source": [
    "This simple procedure got us a score of 0.21736, which is an increase\n",
    "of 0.02624 from the score of Vav, our best model.\n",
    "\n",
    "Now, we attempt rank averaging to improve our result."
   ]
  },
  {
   "cell_type": "code",
   "execution_count": 1,
   "metadata": {
    "collapsed": true
   },
   "outputs": [],
   "source": [
    "GLOB_PREDICTIONS = \"./ensembling/*\"\n",
    "RK_AVG_OUTPUT = \"./rk_avg_ensemble.csv\"\n",
    "\n",
    "from collections import defaultdict\n",
    "from glob import glob\n",
    "\n",
    "def rk_avg_ensemble(glob_files, loc_outfile):\n",
    "  # write to the chosen file\n",
    "  with open(loc_outfile,\"w\") as outfile:\n",
    "    # store the raw ranks\n",
    "    # keys are in the form (<line number>, <id>)\n",
    "    all_ranks = defaultdict(list)\n",
    "    # i is needed to write the header of the output file\n",
    "    for i, glob_file in enumerate( glob(glob_files) ):\n",
    "      # define a container for the ranks found in a file\n",
    "      file_ranks = []\n",
    "      print(\"Parsing now:\", glob_file)\n",
    "      # sort <glob_file> by the predicted probability, ignoring the first line\n",
    "      lines = open(glob_file).readlines()\n",
    "      lines = [lines[0]] + sorted(lines[1:])\n",
    "      for line_number, line in enumerate( lines ):\n",
    "        if line_number == 0 and i == 0:\n",
    "          outfile.write( line )\n",
    "          # if the line is not a header, process it\n",
    "        elif line_number > 0:\n",
    "          # store the row in a list\n",
    "          row = line.strip().split(\",\")\n",
    "          # <row[0]> is the predicted probability\n",
    "          # <row[1]> is the id of the question\n",
    "          file_ranks.append( (float(row[0]), int(row[1])) )\n",
    "          # sort by the initially predicted probability\n",
    "          # and give it a rank\n",
    "      for rank, container in enumerate( sorted(file_ranks) ):\n",
    "        # Store the rank in the dictionary for further processing.\n",
    "        # The key is in the form <id>.\n",
    "        all_ranks[container[1]].append(rank)\n",
    "\n",
    "    print(\"The number of lines with the stored ranks: {}.\".format(len(all_ranks.keys())))\n",
    "    \n",
    "    # define a list as a container for the average ranks\n",
    "    average_ranks = []\n",
    "    # k is in the form (<line number>, <id>);\n",
    "    # first sort by the id\n",
    "    for identifier in sorted(all_ranks):      \n",
    "      # append the average rank together with the identifier\n",
    "      average_ranks.append((sum(all_ranks[identifier])/len(all_ranks[identifier]),\n",
    "                            identifier))\n",
    "      # define a list as a container for the sorted ranks\n",
    "    normalised_ranks = []\n",
    "    # the element of the <average_ranks> is in the format\n",
    "    # (<average_rank>, <identifier>), where\n",
    "    # <identifier> is <test_id>\n",
    "    \n",
    "    for rank, avg_rk_obj in enumerate(sorted(average_ranks)):\n",
    "      # sort <average_ranks> by the average rank and\n",
    "      # append (<id>, <normalized probability>)\n",
    "      # to <sorted_ranks> \n",
    "      normalised_ranks.append((avg_rk_obj[1],\n",
    "                               rank/(len(average_ranks)-1)))\n",
    "      # norm_prob_obj is in the format\n",
    "      # (<id>, <normalised probability>)\n",
    "      # sort <normalised_ranks> by <test_id> and write to the file\n",
    "    for norm_prob_obj in sorted(normalised_ranks):\n",
    "      outfile.write(\"{},{}\\n\".format(norm_prob_obj[1],\n",
    "                                     norm_prob_obj[0]))\n",
    "      print(\"Saved the normalised probabilites to {}.\".format(loc_outfile))\n",
    "\n",
    "rk_avg_ensemble(GLOB_PREDICTIONS, RK_AVG_OUTPUT)"
   ]
  },
  {
   "cell_type": "markdown",
   "metadata": {},
   "source": [
    "Unfortunately, this approach does not yield anything useful, scoring\n",
    "at 0.90852, which is probably due to the fact that the estimated\n",
    "number of duplicates is only a fifth of the entire data\n",
    "set.\n",
    "\n",
    "Now we will try the weighted arithmetic mean.\n",
    "\n",
    "First, let's define a WAM ensembling function which we are going to\n",
    "use throughout our analysis."
   ]
  },
  {
   "cell_type": "code",
   "execution_count": 1,
   "metadata": {
    "collapsed": true
   },
   "outputs": [],
   "source": [
    "def ensemble(weights, output):\n",
    "    import glob\n",
    "    import pandas as pd\n",
    "\n",
    "    weighted_models = []\n",
    "    for file_name in glob.glob(predPath + '*.csv'):\n",
    "        df = pd.read_csv(file_name, encoding = \"utf-8\")\n",
    "        weighted_models.append((df['is_duplicate'],weights[file_name]))\n",
    "    \n",
    "    wam_df = df['is_duplicate'] * 0.0\n",
    "    \n",
    "    for model, weight in weighted_models:\n",
    "        wam_df += model * weight\n",
    "    wam_df /= sum(weights.values())    \n",
    "        \n",
    "    wam_df = pd.concat([df['test_id'], wam_df], axis=1)\n",
    "    wam_df.to_csv(output, index=False)"
   ]
  },
  {
   "cell_type": "markdown",
   "metadata": {},
   "source": [
    "Now, we rank the models which we want to ensemble."
   ]
  },
  {
   "cell_type": "code",
   "execution_count": 1,
   "metadata": {
    "collapsed": true
   },
   "outputs": [],
   "source": [
    "predPath = \"ensembling/\"\n",
    "weights = {\n",
    "# PB Scores are given above the file name\n",
    "#0.25464\n",
    "predPath + \"0.2092_zayin_215_0.40.csv\":2, \n",
    "#0.24360\n",
    "predPath + \"0.2200_vav_198_0.46.csv\":5,\n",
    "#0.26713\n",
    "predPath + \"0.2217_he_199_0.49.csv\":1,\n",
    "#0.24602\n",
    "predPath + \"0.2346_gimmel_214_0.42.csv\":4,\n",
    "#0.24801\n",
    "predPath + \"0.2364_dalet_242_0.32.csv\":3\n",
    "}\n",
    "\n",
    "ensemble(weights, \"wam_ensemble.csv\")"
   ]
  },
  {
   "cell_type": "markdown",
   "metadata": {},
   "source": [
    "Weighted AM turns out to yield the best score so far, giving 0.21623\n",
    " &#x2013; we will try to improve it by building better models."
   ]
  },
  {
   "cell_type": "markdown",
   "metadata": {},
   "source": [
    "## Constructing a Library of Models"
   ]
  },
  {
   "cell_type": "markdown",
   "metadata": {},
   "source": [
    "What can we learn about the data set without embedding the texts into\n",
    "the 300-dimensional vector space and letting the neural net out on the\n",
    "embeddings, which might not be representative of the semantics due to\n",
    "inevitable typos and other oddities of formatting?\n",
    "\n",
    "We will try to find out by building XGBoost models trained on\n",
    "hand-picked features."
   ]
  },
  {
   "cell_type": "markdown",
   "metadata": {},
   "source": [
    "### Tet"
   ]
  },
  {
   "cell_type": "markdown",
   "metadata": {},
   "source": [
    "-   built metrics and XGBoost model [inspired by @act444](https://www.kaggle.com/act444/lb-0-158-xgb-handcrafted-leaky)."
   ]
  },
  {
   "cell_type": "code",
   "execution_count": 1,
   "metadata": {
    "collapsed": true
   },
   "outputs": [],
   "source": [
    "from custom.features import CustomFeatures\n",
    "cf = CustomFeatures()\n",
    "cf.run()"
   ]
  },
  {
   "cell_type": "markdown",
   "metadata": {},
   "source": [
    "-   removed Abhishek's features\n",
    "-   **Training data set**: spaCy-treated, with shorties trimmed and stopwords removed\n",
    "-   **Result**: 0.24224\n",
    "-   **Features Importance**:\n",
    "\n",
    "![img](img/2017-05-30-1512-0.222026460989_tet_xgboost-feature_importance.png)"
   ]
  },
  {
   "cell_type": "markdown",
   "metadata": {},
   "source": [
    "### Yud"
   ]
  },
  {
   "cell_type": "code",
   "execution_count": 1,
   "metadata": {
    "collapsed": true
   },
   "outputs": [],
   "source": [
    "from models.yud_model import Yud\n",
    "yud = Yud()\n",
    "yud.predict()"
   ]
  },
  {
   "cell_type": "markdown",
   "metadata": {},
   "source": [
    "-   based on Tet\n",
    "-   changed base score to 0.175 from 0.2\n",
    "-   added Abhishek's features\n",
    "-   **Training data set**: spaCy-treated, with shorties trimmed and stopwords removed\n",
    "-   **Training result**: 0.2244, which is worse than the training result\n",
    "    of Tet (0.22437), hence Yud's predictions were not submitted\n",
    "-   **Features Importance**:\n",
    "\n",
    "![img](img/2017-05-30-1553-0.224371846975_yud_xgboost-feature_importance.png)\n",
    "Notice how significant Abhishek's features are, given that they\n",
    "provide vital information about the NLP features of questions."
   ]
  },
  {
   "cell_type": "markdown",
   "metadata": {},
   "source": [
    "### Kaf"
   ]
  },
  {
   "cell_type": "code",
   "execution_count": 1,
   "metadata": {
    "collapsed": true
   },
   "outputs": [],
   "source": [
    "from models.kaf_model import Kaf\n",
    "kaf = Kaf()\n",
    "kaf.predict()"
   ]
  },
  {
   "cell_type": "markdown",
   "metadata": {},
   "source": [
    "-   based on Yud\n",
    "-   changed the training data set to include stopwords"
   ]
  },
  {
   "cell_type": "code",
   "execution_count": 1,
   "metadata": {
    "collapsed": true
   },
   "outputs": [],
   "source": [
    "from magic import Magic\n",
    "TRAIN_DATA_FILENAME = \"2017-05-24-1818-shorties_trimmed_train\"\n",
    "m = Magic(train_data_filename=TRAIN_DATA_FILENAME)\n",
    "m.spell()\n",
    "\n",
    "from custom.features import CustomFeatures\n",
    "cf = CustomFeatures(train_data_filename=TRAIN_DATA_FILENAME)\n",
    "cf.run()"
   ]
  },
  {
   "cell_type": "markdown",
   "metadata": {},
   "source": [
    "-   changed `max_depth` from 7 to 10 and `subsample` from 0.6 to 0.55\n",
    "-   **Training data set**: spaCy-treated, with shorties trimmed\n",
    "-   **Result**: 0.24253\n",
    "-   **Features Importance**:\n",
    "\n",
    "![img](img/2017-05-30-1801-0.214863010529_kaf_xgboost-feature_importance.png)\n",
    "Notice how the priority of `tfidf_wm` feature increases with stopwords\n",
    "included. The new settings of the model, however, decrease its\n",
    "predictive power."
   ]
  },
  {
   "cell_type": "markdown",
   "metadata": {},
   "source": [
    "### Lamed"
   ]
  },
  {
   "cell_type": "code",
   "execution_count": 1,
   "metadata": {
    "collapsed": true
   },
   "outputs": [],
   "source": [
    "from models.lamed_model import Lamed\n",
    "lamed = Lamed()\n",
    "lamed.predict()"
   ]
  },
  {
   "cell_type": "markdown",
   "metadata": {},
   "source": [
    "-   trying ensembling with 5 classifiers, inspired by [@emanuele's work](https://github.com/emanuele/kaggle_pbr/blob/master/blend.py)\n",
    "-   **Training data set**: spaCy-treated, with shorties trimmed\n",
    "-   **Result**: 0.24785\n",
    "-   The result is surprisingly good for the time spent training the model."
   ]
  },
  {
   "cell_type": "markdown",
   "metadata": {},
   "source": [
    "### Attempt at Repeated Ensembling"
   ]
  },
  {
   "cell_type": "markdown",
   "metadata": {},
   "source": [
    "We will try to ensemble again to see whether Lamed gives us any improvement."
   ]
  },
  {
   "cell_type": "code",
   "execution_count": 1,
   "metadata": {
    "collapsed": true
   },
   "outputs": [],
   "source": [
    "predPath = \"ensembling/\"\n",
    "weights = {\n",
    "# PB Scores are given above the file name\n",
    "#0.21623\n",
    "predPath + \"wam_ensemble.csv\":8,\n",
    "#0.21736\n",
    "predPath + \"gm_ensemble.csv\":7,\n",
    "#0.24224\n",
    "predPath + \"0.222026460989_tet_xgboost.csv\":6,\n",
    "#0.24253\n",
    "predPath + \"0.214863010529_kaf_xgboost.csv\":5,\n",
    "#0.24360\n",
    "predPath + \"0.2200_vav_198_0.46.csv\":4,\n",
    "#0.24602\n",
    "predPath + \"0.2346_gimmel_214_0.42.csv\":3,\n",
    "#0.24785\n",
    "predPath + \"0.319533794385_lamed_xgboost.csv\":2,\n",
    "#0.24801\n",
    "predPath + \"0.2364_dalet_242_0.32.csv\":1\n",
    "}\n",
    "\n",
    "ensemble(weights, \"wam_ensemble_1.csv\")"
   ]
  },
  {
   "cell_type": "markdown",
   "metadata": {},
   "source": [
    "Indeed, the second ensemble scores 0.20882, which is the best score so\n",
    "far. What if we ensemble again?"
   ]
  },
  {
   "cell_type": "code",
   "execution_count": 1,
   "metadata": {
    "collapsed": true
   },
   "outputs": [],
   "source": [
    "predPath = \"ensembling/\"\n",
    "weights = {\n",
    "    # PB Scores are given above the file name\n",
    "    #0.20882\n",
    "    predPath + \"wam_ensemble_1.csv\":8,\n",
    "    #0.21623\n",
    "    predPath + \"wam_ensemble.csv\":7,\n",
    "    #0.21736\n",
    "    predPath + \"gm_ensemble.csv\":6,\n",
    "    #0.24224\n",
    "    predPath + \"0.222026460989_tet_xgboost.csv\":5,\n",
    "    #0.24253\n",
    "    predPath + \"0.214863010529_kaf_xgboost.csv\":4,\n",
    "    #0.24360\n",
    "    predPath + \"0.2200_vav_198_0.46.csv\":3,\n",
    "    #0.24602\n",
    "    predPath + \"0.2346_gimmel_214_0.42.csv\":2,\n",
    "    #0.24785\n",
    "    predPath + \"0.319533794385_lamed_xgboost.csv\":1\n",
    "}\n",
    "ensemble(weights, \"wam_ensemble_2.csv\")"
   ]
  },
  {
   "cell_type": "markdown",
   "metadata": {},
   "source": [
    "The third ensemble is worse than the parental second, which is\n",
    "consistent with [the reports](https://mlwave.com/kaggle-ensembling-guide/) that weighted AM ensembling works better\n",
    "with the least correlated predictions."
   ]
  },
  {
   "cell_type": "markdown",
   "metadata": {},
   "source": [
    "### Mem"
   ]
  },
  {
   "cell_type": "code",
   "execution_count": 1,
   "metadata": {
    "collapsed": true
   },
   "outputs": [],
   "source": [
    "from models.mem_model import Mem\n",
    "mem = Mem()\n",
    "mem.predict()"
   ]
  },
  {
   "cell_type": "markdown",
   "metadata": {},
   "source": [
    "-   based on Lamed\n",
    "-   added NN MLPClassifier with pyramidal structure of three hidden layers\n",
    "-   removed Lamed's GradientBoostingClassifier\n",
    "-   changed the number of estimators to 180 each\n",
    "-   **Training data set**: spaCy-treated, with shorties trimmed\n",
    "-   **Result**: 0.24785\n",
    "\n",
    "The model received the worst score of 6.55941 after very quick\n",
    "training, which indicates severe overfitting."
   ]
  },
  {
   "cell_type": "markdown",
   "metadata": {},
   "source": [
    "### Nun"
   ]
  },
  {
   "cell_type": "code",
   "execution_count": 1,
   "metadata": {
    "collapsed": true
   },
   "outputs": [],
   "source": [
    "from models.nun_model import Nun\n",
    "nun = Nun()\n",
    "nun.predict()"
   ]
  },
  {
   "cell_type": "markdown",
   "metadata": {},
   "source": [
    "-   based on He\n",
    "-   changed the training data set (included stopwords)\n",
    "-   wrote the code for computing similarity measures based on NLTK\n",
    "    WordNet and Brown corpora, but decided against their inclusion due\n",
    "    to the speed of their computation"
   ]
  },
  {
   "cell_type": "code",
   "execution_count": 1,
   "metadata": {
    "collapsed": true
   },
   "outputs": [],
   "source": [
    "from custom.similarity import SimilarityFeatures\n",
    "sf = SimilarityFeatures(train_data_filename=\"2017-05-24-1818-shorties_trimmed_train\")\n",
    "sf.run()"
   ]
  },
  {
   "cell_type": "markdown",
   "metadata": {},
   "source": [
    "-   added Abhishek's features with `euclidean_distance` and\n",
    "    `jaccard_distance` dropped, as suggested by their feature importance\n",
    "-   added Dropout layers to `Q1`, `Q2` and `custom_features` branches\n",
    "    before the merging layer\n",
    "-   swapped places of dropout and batch normalisation layers after merging\n",
    "-   decreased the dropout rate for the question layers\n",
    "-   decreased the dimension of the dense layer for custom features\n",
    "-   added up-down sampling\n",
    "-   changed the optimizer to nadam\n",
    "-   added custom features\n",
    "-   removed reweighing\n",
    "-   **Training data set**: spaCy-treated, with shorties trimmed\n",
    "-   **Base dense dimensions**: 407\n",
    "-   **Base dropout rate for hidden layers**: 0.47\n",
    "\n",
    "![img](img/2017-06-04-1743-nun_407_0.47-accuracy_dynamics.png)\n",
    "The score obtained is 0.24987, which is an improvement from He's\n",
    "0.26713."
   ]
  },
  {
   "cell_type": "markdown",
   "metadata": {},
   "source": [
    "### Samech"
   ]
  },
  {
   "cell_type": "code",
   "execution_count": 1,
   "metadata": {
    "collapsed": true
   },
   "outputs": [],
   "source": [
    "from models.samech_model import Samech\n",
    "samech = Samech()\n",
    "samech.predict()"
   ]
  },
  {
   "cell_type": "markdown",
   "metadata": {},
   "source": [
    "-   based on Kaf\n",
    "-   decreased `eta` to 0.01 to prevent overfitting\n",
    "-   increased `max_depth` to 8 to make the model more complex\n",
    "-   increased base score to 0.19\n",
    "-   removed Abhishek's features\n",
    "-   **Training data set**: spaCy-treated, with shorties trimmed\n",
    "\n",
    "![img](img/2017-06-02-2225-0.212772886818_samech_xgboost-feature_importance.png)\n",
    "The score of 0.24505 is worse than Kaf's 0.24253, which is probably\n",
    "due to the lack of good features. We have already seen in Yud's\n",
    "predictions that including Abhishek's can boost the results, so this\n",
    "run was not productive &#x2013; the model does seem to learn more from less,\n",
    "however."
   ]
  },
  {
   "cell_type": "markdown",
   "metadata": {},
   "source": [
    "### Pe"
   ]
  },
  {
   "cell_type": "code",
   "execution_count": 1,
   "metadata": {
    "collapsed": true
   },
   "outputs": [],
   "source": [
    "from models.pe_model import Pe\n",
    "pe = Pe()\n",
    "pe.predict()"
   ]
  },
  {
   "cell_type": "markdown",
   "metadata": {},
   "source": [
    "-   based on Mem without MLPClassifier\n",
    "-   switched to mlxtend StackedClassifier without folding\n",
    "-   **Training data set**: spaCy-treated, with shorties trimmed-\n",
    "-   overfits significantly &#x2013; LB Score of 0.42179"
   ]
  },
  {
   "cell_type": "markdown",
   "metadata": {},
   "source": [
    "### Phe"
   ]
  },
  {
   "cell_type": "code",
   "execution_count": 1,
   "metadata": {
    "collapsed": true
   },
   "outputs": [],
   "source": [
    "from models.phe_model import Phe\n",
    "phe = Phe()\n",
    "phe.predict()"
   ]
  },
  {
   "cell_type": "markdown",
   "metadata": {},
   "source": [
    "-   based on Pe\n",
    "-   removed minimax regularization of predictions\n",
    "-   Increased the dimensions of MLPClassifier and squashed the pyramidal architecture of hidden layers\n",
    "-   Decreased the batch\\_size of MLPClassifier\n",
    "-   **Training data set**: spaCy-treated, with shorties trimmed-\n",
    "-   overfits extremely &#x2013; LB Score of 6.29678, consistent with Mem's\n",
    "    poor result, which is probably due to the addition of MLPClassifier"
   ]
  },
  {
   "cell_type": "markdown",
   "metadata": {},
   "source": [
    "### Tsadi"
   ]
  },
  {
   "cell_type": "code",
   "execution_count": 1,
   "metadata": {
    "collapsed": true
   },
   "outputs": [],
   "source": [
    "from models.tsadi_model import Tsadi\n",
    "tsadi = Tsadi()\n",
    "tsadi.predict()"
   ]
  },
  {
   "cell_type": "markdown",
   "metadata": {},
   "source": [
    "-   based on Nun (switched to LSTM)\n",
    "-   removed one Dense layer\n",
    "-   decreased the dropout rate for the question branches\n",
    "-   **Training data set**: spaCy-treated, with shorties trimmed\n",
    "-   was not run due to the computational cost and realisation that\n",
    "    more careful base data selection is necessary"
   ]
  },
  {
   "cell_type": "markdown",
   "metadata": {},
   "source": [
    "### Quf"
   ]
  },
  {
   "cell_type": "code",
   "execution_count": 1,
   "metadata": {
    "collapsed": true
   },
   "outputs": [],
   "source": [
    "from models.quf_model import Quf\n",
    "quf = Quf()\n",
    "quf.predict()"
   ]
  },
  {
   "cell_type": "markdown",
   "metadata": {},
   "source": [
    "-   based on Yud\n",
    "-   changed the base dataframe to the train file with minimal preprocessing\n",
    "-   excluded magic2 and kcore features\n",
    "-   added Abhishek's `euclidean_distance` and `jaccard_distance`\n",
    "-   **Training data set**: vanilla"
   ]
  },
  {
   "cell_type": "code",
   "execution_count": 1,
   "metadata": {
    "collapsed": true
   },
   "outputs": [],
   "source": [
    "from magic import Magic\n",
    "TRAIN_DATA_FILENAME = \"vanilla_train\"\n",
    "m = Magic(train_data_filename=TRAIN_DATA_FILENAME)\n",
    "m.spell()\n",
    "\n",
    "from custom.features import CustomFeatures\n",
    "cf = CustomFeatures(train_data_filename=TRAIN_DATA_FILENAME)\n",
    "cf.run()"
   ]
  },
  {
   "cell_type": "markdown",
   "metadata": {},
   "source": [
    "Indeed, Abhishek's `euclidean_distance` and `jaccard_distance` are the\n",
    "least significant features and may just add a noise to the model. The\n",
    "score received was 0.23158, which is  an improvement from Tet's\n",
    "0.24224. It seems that `vanilla_train` gives better results.\n",
    "\n",
    "![img](img/2017-06-04-1949-0.180881032724_quf_xgboost-feature_importance.png)\n",
    "\n",
    "-"
   ]
  },
  {
   "cell_type": "markdown",
   "metadata": {},
   "source": [
    "## Attempt at Ensembling"
   ]
  },
  {
   "cell_type": "markdown",
   "metadata": {},
   "source": [
    "We ensemble our best model for the fourth time."
   ]
  },
  {
   "cell_type": "code",
   "execution_count": 1,
   "metadata": {
    "collapsed": true
   },
   "outputs": [],
   "source": [
    "predPath = \"ensembling/\"\n",
    "n = 9\n",
    "weights = {\n",
    "    # PB Scores are given above the file name\n",
    "    #0.23158\n",
    "    predPath + \"0.180881032724_quf_xgboost.csv\":n,\n",
    "    #0.24224\n",
    "    predPath + \"0.222026460989_tet_xgboost.csv\":n-1,\n",
    "    #0.24253\n",
    "    predPath + \"0.214863010529_kaf_xgboost.csv\":n-2,\n",
    "    #0.24360\n",
    "    predPath + \"0.2200_vav_198_0.46.csv\":n-3,\n",
    "    #0.24505\n",
    "    predPath + \"0.212772886818_samech_xgboost.csv\":n-4,\n",
    "    #0.24602\n",
    "    predPath + \"0.2346_gimmel_214_0.42.csv\":n-5,\n",
    "    #0.24785\n",
    "    predPath + \"0.319533794385_lamed_xgboost.csv\":n-6,\n",
    "    #0.24801\n",
    "    predPath + \"0.2364_dalet_242_0.32.csv\":n-7,\n",
    "    #0.24987\n",
    "    predPath + \"0.1339_nun_407_0.47.csv\":n-8\n",
    "}\n",
    "ensemble(weights, \"wam_ensemble_3.csv\")"
   ]
  },
  {
   "cell_type": "markdown",
   "metadata": {},
   "source": [
    "Again, this boosts us to 0.20767, which is an improvement from the\n",
    "`wam_ensemble1.csv` result of 0.20882."
   ]
  },
  {
   "cell_type": "markdown",
   "metadata": {},
   "source": [
    "## Feature Engineering"
   ]
  },
  {
   "cell_type": "markdown",
   "metadata": {},
   "source": [
    "The dilettante model meddling did not give satisfactory results. We\n",
    "need more features."
   ]
  },
  {
   "cell_type": "markdown",
   "metadata": {},
   "source": [
    "### NLTK Investigations"
   ]
  },
  {
   "cell_type": "markdown",
   "metadata": {},
   "source": [
    "-   measuring shares of hypernyms and lemmas, as well as linear and\n",
    "    smooth counts of synonyms\n",
    "-   cross path similarity is not computed due to the high computational cost\n",
    "\n",
    "We will plot how good the features are for the discrimination between\n",
    "dupes and non-dupes."
   ]
  },
  {
   "cell_type": "code",
   "execution_count": 1,
   "metadata": {
    "collapsed": true
   },
   "outputs": [],
   "source": [
    "import pandas as pd\n",
    "import numpy as np\n",
    "import seaborn as sns\n",
    "import matplotlib.pyplot as plt\n",
    "BASE_DIR = 'data/'\n",
    "TRAIN_DATA_FILENAME = \"vanilla_train\"\n",
    "TRAIN_DATA_FILE = BASE_DIR + TRAIN_DATA_FILENAME + '.csv'\n",
    "CUSTOM_FEATURES_TRAIN = 'custom/' + \\\n",
    "                        TRAIN_DATA_FILENAME + \\\n",
    "                        \"-nltk-train.csv\"\n",
    "df_train = pd.read_csv(TRAIN_DATA_FILE, encoding=\"utf-8\")\n",
    "nltk_features = pd.read_csv(CUSTOM_FEATURES_TRAIN, encoding=\"utf-8\")\n",
    "\n",
    "ix_is_dup = np.where(df_train['is_duplicate'] == 1)[0]\n",
    "ix_not_dup = np.where(df_train['is_duplicate'] == 0)[0]\n",
    "\n",
    "\n",
    "def plot_feature_graph(data, fname):\n",
    "    fig = plt.figure()\n",
    "    ax1 = plt.subplot2grid((3, 2), (0, 0), colspan=2)\n",
    "    ax2 = plt.subplot2grid((3, 2), (1, 0), colspan=2)\n",
    "    ax1.set_title('Distribution of %s' % fname, fontsize=16)\n",
    "    sns.distplot(data[fname], \n",
    "                 bins=50, \n",
    "                 ax=ax1)    \n",
    "    sns.distplot(data.loc[ix_is_dup][fname], \n",
    "                 bins=50, \n",
    "                 ax=ax2,\n",
    "                 label='duplicate')    \n",
    "    sns.distplot(data.loc[ix_not_dup][fname], \n",
    "                 bins=50, \n",
    "                 ax=ax2,\n",
    "                 label='non-duplicate')\n",
    "    ax2.legend(loc='upper right', prop={'size': 14})\n",
    "    plt.savefig(\"img/{}.png\".format(fname))\n",
    "    plt.show()"
   ]
  },
  {
   "cell_type": "code",
   "execution_count": 1,
   "metadata": {
    "collapsed": true
   },
   "outputs": [],
   "source": [
    "plot_feature_graph(nltk_features,\"hypernyms_share\")\n",
    "plot_feature_graph(nltk_features,\"linear_synonyms_count\")\n",
    "plot_feature_graph(nltk_features,\"smooth_synonyms_count\")\n",
    "plot_feature_graph(nltk_features,\"lemmas_share\")"
   ]
  },
  {
   "cell_type": "markdown",
   "metadata": {},
   "source": [
    "![img](img/hypernyms_share.png)\n",
    "![img](img/linear_synonyms_count.png)\n",
    "![img](img/smooth_synonyms_count.png)\n",
    "![img](img/lemmas_share.png)\n",
    "\n",
    "We can see that `linear_synonyms_count` and `smooth_synonyms_count`\n",
    "allow almost no differentiation at all, so we exclude them from our\n",
    "models."
   ]
  },
  {
   "cell_type": "markdown",
   "metadata": {},
   "source": [
    "### Properties of words"
   ]
  },
  {
   "cell_type": "markdown",
   "metadata": {},
   "source": [
    "Texts with similar contents might have similar syllables and character frequences."
   ]
  },
  {
   "cell_type": "code",
   "execution_count": 1,
   "metadata": {
    "collapsed": true
   },
   "outputs": [],
   "source": [
    "wordies_features = pd.read_csv('custom/' + TRAIN_DATA_FILENAME + \"-wordies-train.csv\", encoding=\"utf-8\")\n",
    "plot_feature_graph(wordies_features,\"character_freq\")\n",
    "plot_feature_graph(wordies_features,'syllable_similarity')"
   ]
  },
  {
   "cell_type": "markdown",
   "metadata": {},
   "source": [
    "![img](img/character_freq.png)\n",
    "\n",
    "![img](img/syllable_similarity.png)\n",
    "Here we may discard the character frequencies, since they are almost\n",
    "completely overlapping."
   ]
  },
  {
   "cell_type": "markdown",
   "metadata": {},
   "source": [
    "### Testing word and synonym properties"
   ]
  },
  {
   "cell_type": "markdown",
   "metadata": {},
   "source": [
    "#### Resh"
   ]
  },
  {
   "cell_type": "code",
   "execution_count": 1,
   "metadata": {
    "collapsed": true
   },
   "outputs": [],
   "source": [
    "from models.resh_model import Resh\n",
    "resh = Resh()\n",
    "resh.predict()"
   ]
  },
  {
   "cell_type": "markdown",
   "metadata": {},
   "source": [
    "-   based on Quf, with magic2 and kcore features included\n",
    "-   **Training data set**: vanilla\n",
    "\n",
    "![img](img/2017-06-05-0748-0.180005762885_resh_xgboost-feature_importance.png)\n",
    "\n",
    "-   Resh model scores 0.23214, which is worse than Quf, and the\n",
    "    `character_freq` seems to be important despite the massive\n",
    "    overlap. Probably `euclidean_distance`, `jaccard_distance` and\n",
    "    `character_freq` contribute to the decline of the model\n",
    "    generalisability."
   ]
  },
  {
   "cell_type": "markdown",
   "metadata": {},
   "source": [
    "### Counts Investigation"
   ]
  },
  {
   "cell_type": "markdown",
   "metadata": {},
   "source": [
    "Now we try to measure several set statistics: Wagner-Fischer,\n",
    "MostFreqKSDF, Tversky index, weighted difference, stem frequencies,\n",
    "and stem sharing."
   ]
  },
  {
   "cell_type": "code",
   "execution_count": 1,
   "metadata": {
    "collapsed": true
   },
   "outputs": [],
   "source": [
    "from custom.counts_investigation import CountsFeatures\n",
    "c = CountsFeatures()\n",
    "c.run()"
   ]
  },
  {
   "cell_type": "code",
   "execution_count": 1,
   "metadata": {
    "collapsed": true
   },
   "outputs": [],
   "source": [
    "env_features = pd.read_csv('custom/' + TRAIN_DATA_FILENAME + \"-counts-train.csv\", encoding=\"utf-8\")\n",
    "plot_feature_graph(env_features,\"wagner_fischer\")\n",
    "plot_feature_graph(env_features,'wagner_fischer_reverse')\n",
    "plot_feature_graph(env_features,'most_freq_2_sdf')\n",
    "plot_feature_graph(env_features,'most_freq_2_sdf_reverse')\n",
    "plot_feature_graph(env_features,'most_freq_2_sdf_reverse')\n",
    "plot_feature_graph(env_features,'stems_freq')\n",
    "plot_feature_graph(env_features,'stems_share')\n",
    "plot_feature_graph(env_features,'stems_weighted_difference')\n",
    "plot_feature_graph(env_features,'stems_tversky_index')\n",
    "del env_features"
   ]
  },
  {
   "cell_type": "markdown",
   "metadata": {},
   "source": [
    "![img](img/wagner_fischer.png)\n",
    "\n",
    "![img](img/wagner_fischer_reverse.png)\n",
    "\n",
    " ![img](img/most_freq_2_sdf_reverse.png)\n",
    " ![img](img/most_freq_2_sdf_reverse.png)\n",
    " ![img](img/most_freq_2_sdf_reverse.png)\n",
    "  ![img](img/stems_freq.png)\n",
    "  ![img](img/stems_share.png)\n",
    "  ![img](img/stems_weighted_difference.png)\n",
    "  ![img](img/stems_tversky_index.png)\n",
    "Only the last four features seem to be worthy to be included in our next model."
   ]
  },
  {
   "cell_type": "markdown",
   "metadata": {},
   "source": [
    "### Environment Investigation"
   ]
  },
  {
   "cell_type": "markdown",
   "metadata": {},
   "source": [
    "Now let's represent each sentence as one continuous string of stemmed\n",
    "words and calculate several similarity statistics on them."
   ]
  },
  {
   "cell_type": "code",
   "execution_count": 1,
   "metadata": {
    "collapsed": true
   },
   "outputs": [],
   "source": [
    "from custom.environment_investigation import EnvFeatures\n",
    "e = EnvFeatures()\n",
    "e.run()"
   ]
  },
  {
   "cell_type": "code",
   "execution_count": 1,
   "metadata": {
    "collapsed": true
   },
   "outputs": [],
   "source": [
    "env_features = pd.read_csv('custom/' + TRAIN_DATA_FILENAME + \"-env-train.csv\", encoding=\"utf-8\").fillna(0)\n",
    "plot_feature_graph(env_features,'kendall_tau')\n",
    "plot_feature_graph(env_features,'kendall_p_value')\n",
    "plot_feature_graph(env_features,'string_similarity')\n",
    "plot_feature_graph(env_features,'subset_count')\n",
    "del env_features"
   ]
  },
  {
   "cell_type": "markdown",
   "metadata": {},
   "source": [
    "![img](img/kendall_tau.png)\n",
    "\n",
    "![img](img/kendall_p_value.png)\n",
    "\n",
    "![img](img/string_similarity.png)\n",
    "\n",
    "![img](img/subset_count.png)\n",
    "`kendall_p_value` and `string_similarity` seem to be worthy to be included into the model."
   ]
  },
  {
   "cell_type": "markdown",
   "metadata": {},
   "source": [
    "### Testing word, synonym, counts and environment properties"
   ]
  },
  {
   "cell_type": "markdown",
   "metadata": {},
   "source": [
    "#### Shin"
   ]
  },
  {
   "cell_type": "code",
   "execution_count": 1,
   "metadata": {
    "collapsed": true
   },
   "outputs": [],
   "source": [
    "from shin_model import Shin\n",
    "s = Shin()\n",
    "s.predict()"
   ]
  },
  {
   "cell_type": "markdown",
   "metadata": {},
   "source": [
    "-   based on Resh, with counts and environment features included\n",
    "-   **Training data set**: vanilla\n",
    "\n",
    "![img](img/2017-06-06-0147-0.178758220484_shin_xgboost-feature_importance.png)\n",
    "The added features seem to be important and blend well with the rest,\n",
    "giving a score of 0.22808, which is an improvement from Quf and Resh."
   ]
  },
  {
   "cell_type": "markdown",
   "metadata": {},
   "source": [
    "### Az Investigation"
   ]
  },
  {
   "cell_type": "markdown",
   "metadata": {},
   "source": [
    "Questions with similar places mentioned seem to be more likely to\n",
    "share the same intent. We use the Movehub City Rankings [data](https://www.kaggle.com/blitzr/movehub-city-rankings) to fetch\n",
    "the country names together with some cities."
   ]
  },
  {
   "cell_type": "code",
   "execution_count": 1,
   "metadata": {
    "collapsed": true
   },
   "outputs": [],
   "source": [
    "from custom.investigation_az import AzFeatures\n",
    "az = AzFeatures()\n",
    "az.run()"
   ]
  },
  {
   "cell_type": "code",
   "execution_count": 1,
   "metadata": {
    "collapsed": true
   },
   "outputs": [],
   "source": [
    "az_features = pd.read_csv('custom/' + TRAIN_DATA_FILENAME + \"-az-train.csv\", encoding=\"utf-8\").fillna(0.0)\n",
    "plot_feature_graph(az_features,'places_share')\n",
    "# All zeroes.\n",
    "#plot_feature_graph(az_features,'places_difference')\n",
    "plot_feature_graph(az_features,'places_prevalence')\n",
    "del az_features"
   ]
  },
  {
   "cell_type": "markdown",
   "metadata": {},
   "source": [
    "![img](img/places_share.png)\n",
    "\n",
    "![img](img/places_prevalence.png)\n",
    "There is some differentiation, but not that much &#x2013; not many questions mention any countries at all."
   ]
  },
  {
   "cell_type": "markdown",
   "metadata": {},
   "source": [
    "### Buky Investigation"
   ]
  },
  {
   "cell_type": "markdown",
   "metadata": {},
   "source": [
    "What can Word2Vec embeddings trained on Google News tell us?  We\n",
    "introduce multiple features, all based on the vectors corresponding to\n",
    "each word in the questions."
   ]
  },
  {
   "cell_type": "code",
   "execution_count": 1,
   "metadata": {
    "collapsed": true
   },
   "outputs": [],
   "source": [
    "from custom.investigation_buky import BukyFeatures\n",
    "buky = BukyFeatures()\n",
    "buky.run()"
   ]
  },
  {
   "cell_type": "markdown",
   "metadata": {},
   "source": [
    "### Collins & Duffy"
   ]
  },
  {
   "cell_type": "markdown",
   "metadata": {},
   "source": [
    "We feed [Collins and Duffy's data](https://www.kaggle.com/c/quora-question-pairs/discussion/32334) in the hopes of retrieving some\n",
    "information affecting the duplicity."
   ]
  },
  {
   "cell_type": "code",
   "execution_count": 1,
   "metadata": {
    "collapsed": true
   },
   "outputs": [],
   "source": [
    "from custom.duffy import Duffy\n",
    "d = Duffy()\n",
    "d.build()"
   ]
  },
  {
   "cell_type": "markdown",
   "metadata": {},
   "source": [
    "### Pagerank"
   ]
  },
  {
   "cell_type": "markdown",
   "metadata": {},
   "source": [
    "We compute pageranks, [inspired by @ZFTurbo](https://www.kaggle.com/zfturbo/pagerank-on-quora-feature-file-generator/code)."
   ]
  },
  {
   "cell_type": "code",
   "execution_count": 1,
   "metadata": {
    "collapsed": true
   },
   "outputs": [],
   "source": [
    "from custom import pagerank"
   ]
  },
  {
   "cell_type": "markdown",
   "metadata": {},
   "source": [
    "## New Models"
   ]
  },
  {
   "cell_type": "markdown",
   "metadata": {},
   "source": [
    "Now we are ready to combine the features and feed them to our model"
   ]
  },
  {
   "cell_type": "markdown",
   "metadata": {},
   "source": [
    "### Tav"
   ]
  },
  {
   "cell_type": "code",
   "execution_count": 1,
   "metadata": {
    "collapsed": true
   },
   "outputs": [],
   "source": [
    "from tav_model import Tav\n",
    "t = Tav()\n",
    "t.predict()"
   ]
  },
  {
   "cell_type": "markdown",
   "metadata": {},
   "source": [
    "-   based on Shin, with the computed features included\n",
    "-   **Training data set**: vanilla\n",
    "\n",
    "![img](img/2017-06-06-2327-0.174476734017_tav_xgboost-feature_importance.png)\n",
    "Luckily, we have found features which are more important than the ones used previously. Tav scores us 0.20662."
   ]
  },
  {
   "cell_type": "markdown",
   "metadata": {},
   "source": [
    "### Sin"
   ]
  },
  {
   "cell_type": "markdown",
   "metadata": {},
   "source": [
    "With not much time under our belts, let's train something more\n",
    "lightweight than LSTM but hopefully more accurate than vanilla NN."
   ]
  },
  {
   "cell_type": "code",
   "execution_count": 1,
   "metadata": {
    "collapsed": true
   },
   "outputs": [],
   "source": [
    "from sin_model import Sin\n",
    "s = Sin()\n",
    "s.predict()"
   ]
  },
  {
   "cell_type": "markdown",
   "metadata": {},
   "source": [
    "-   based on Khet (Convolutional1D with the custom features fed through a hidden layer)\n",
    "-   all the best features included\n",
    "-   trained for 5 total epochs due to time constraints, with a break\n",
    "    in-between to change the number of epochs\n",
    "-   **Training data set**: vanilla\n",
    "\n",
    "![img](img/2017-06-07-0229-sin_323_0.46-accuracy_dynamics.png)\n",
    "\n",
    "The model seems to be very stable, with some overfitting occuring by\n",
    "the end of the third epoch. Sin yields 0.22727, which is worse than\n",
    "Tav."
   ]
  },
  {
   "cell_type": "markdown",
   "metadata": {},
   "source": [
    "### WAM Ensemble 4"
   ]
  },
  {
   "cell_type": "markdown",
   "metadata": {},
   "source": [
    "While Sin is being evaluated, let's ensemble what we have so far and\n",
    "see what we get."
   ]
  },
  {
   "cell_type": "code",
   "execution_count": 1,
   "metadata": {
    "collapsed": true
   },
   "outputs": [],
   "source": [
    "def ensemble(weights, output):\n",
    "    import glob\n",
    "    import pandas as pd\n",
    "\n",
    "    weighted_models = []\n",
    "    for file_name in glob.glob(predPath + '*.csv'):\n",
    "        df = pd.read_csv(file_name, encoding = \"utf-8\")\n",
    "        weighted_models.append((df['is_duplicate'],weights[file_name]))\n",
    "    \n",
    "    wam_df = df['is_duplicate'] * 0.0\n",
    "    \n",
    "    for model, weight in weighted_models:\n",
    "        wam_df += model * weight\n",
    "    wam_df /= sum(weights.values())    \n",
    "        \n",
    "    wam_df = pd.concat([df['test_id'], wam_df], axis=1)\n",
    "    wam_df.to_csv(output, index=False)\n",
    "predPath = \"ensembling/\"\n",
    "n = 9\n",
    "weights = {\n",
    "    # PB Scores are given above the file name\n",
    "    #0.20662\n",
    "    predPath + \"0.174476734017_tav_xgboost.csv\":n+5,\n",
    "    #0.20767\n",
    "    predPath + \"wam_ensemble_3.csv\":n+4,\n",
    "    #0.21736\n",
    "    predPath + \"gm_ensemble.csv\":n+3,\n",
    "    #0.22808\n",
    "    predPath + \"0.178758220484_shin_xgboost.csv\":n+2,\n",
    "    #0.23158\n",
    "    predPath + \"0.180881032724_quf_xgboost.csv\":n+1,\n",
    "    #0.23214\n",
    "    predPath + \"0.180005762885_resh_xgboost.csv\":n,\n",
    "    #0.24224\n",
    "    predPath + \"0.222026460989_tet_xgboost.csv\":n-1,\n",
    "    #0.24253\n",
    "    predPath + \"0.214863010529_kaf_xgboost.csv\":n-2,\n",
    "    #0.24360\n",
    "    predPath + \"0.2200_vav_198_0.46.csv\":n-3,\n",
    "    #0.24505\n",
    "    predPath + \"0.212772886818_samech_xgboost.csv\":n-4,\n",
    "    #0.24602\n",
    "    predPath + \"0.2346_gimmel_214_0.42.csv\":n-5,\n",
    "    #0.24785\n",
    "    predPath + \"0.319533794385_lamed_xgboost.csv\":n-6,\n",
    "    #0.24801\n",
    "    predPath + \"0.2364_dalet_242_0.32.csv\":n-7,\n",
    "    #0.24987\n",
    "    predPath + \"0.1339_nun_407_0.47.csv\":n-8\n",
    "}\n",
    "ensemble(weights, \"wam_ensemble_4.csv\")"
   ]
  },
  {
   "cell_type": "markdown",
   "metadata": {},
   "source": [
    "The ensembling gives us an improvement of more than 0.005."
   ]
  },
  {
   "cell_type": "markdown",
   "metadata": {},
   "source": [
    "### WAM Ensemble 5"
   ]
  },
  {
   "cell_type": "markdown",
   "metadata": {},
   "source": [
    "Finally, let's apply the trick which we used in our first ensembling.\n",
    "First, let's compute the GM ensemble of all the models which scored under 0.25."
   ]
  },
  {
   "cell_type": "code",
   "execution_count": 1,
   "metadata": {
    "collapsed": true
   },
   "outputs": [],
   "source": [
    "import glob\n",
    "import pandas as pd\n",
    "from scipy.stats.mstats import gmean\n",
    "\n",
    "predPath = \"ensembling/\"\n",
    "models = []\n",
    "\n",
    "for file_name in glob.glob(predPath + '*.csv'):\n",
    "    df = pd.read_csv(file_name, encoding = \"utf-8\")\n",
    "    models.append(df['is_duplicate'])\n",
    "\n",
    "total = pd.concat(models, axis=1)\n",
    "gm_df = pd.DataFrame()\n",
    "gm_df['is_duplicate'] = gmean(total, axis=1)\n",
    "gm_df['test_id'] = df['test_id']\n",
    "gm_df.to_csv(\"gm_ensemble_1.csv\", index=False)"
   ]
  },
  {
   "cell_type": "markdown",
   "metadata": {},
   "source": [
    "Then we combine the three best models and take a weighted mean:"
   ]
  },
  {
   "cell_type": "code",
   "execution_count": 1,
   "metadata": {
    "collapsed": true
   },
   "outputs": [],
   "source": [
    "def ensemble(weights, output):\n",
    "    import glob\n",
    "    import pandas as pd\n",
    "\n",
    "    weighted_models = []\n",
    "    for file_name in glob.glob(predPath + '*.csv'):\n",
    "        df = pd.read_csv(file_name, encoding = \"utf-8\")\n",
    "        weighted_models.append((df['is_duplicate'],weights[file_name]))\n",
    "    \n",
    "    wam_df = df['is_duplicate'] * 0.0\n",
    "    \n",
    "    for model, weight in weighted_models:\n",
    "        wam_df += model * weight\n",
    "    wam_df /= sum(weights.values())    \n",
    "        \n",
    "    wam_df = pd.concat([df['test_id'], wam_df], axis=1)\n",
    "    wam_df.to_csv(output, index=False)\n",
    "predPath = \"ensembling/\"\n",
    "n = 3\n",
    "weights = {\n",
    "    # PB Scores are given above the file name\n",
    "    #0.20662\n",
    "    predPath + \"0.174476734017_tav_xgboost.csv\":n,\n",
    "    #0.20767\n",
    "    predPath + \"wam_ensemble_4.csv\":n-1,\n",
    "    #0.21067\n",
    "    predPath + \"gm_ensemble_1.csv\":n-2\n",
    "}\n",
    "ensemble(weights, \"wam_ensemble_5.csv\")"
   ]
  },
  {
   "cell_type": "markdown",
   "metadata": {},
   "source": [
    "The final ensemble scores 0.19638 on the public LB and 0.20098 on the private LB."
   ]
  },
  {
   "cell_type": "markdown",
   "metadata": {},
   "source": [
    "# Conclusion"
   ]
  },
  {
   "cell_type": "markdown",
   "metadata": {},
   "source": [
    "QQP was a superb experience for me &#x2013; data, tips and knowledge\n",
    "shared by the Kaggle community and all the other researchers working\n",
    "on NLP were indispensable in the present investigation of the data\n",
    "set. Given the fact that the only experience of machine learning I had\n",
    "before was limited to using automatic translators, the competition\n",
    "turned out to give valuable lessons in natural language processing and\n",
    "powerful prediction methods.\n",
    "Although the final score is not the best, it evidently shows that a\n",
    "dilettante with some free time, programming experience and wonderful\n",
    "receptive community can indeed beat the three quarters of\n",
    "participants.\n",
    "Key aspects of analysis which I would like to\n",
    "improve in the future include the following:\n",
    "\n",
    "-   some graphs look awful and not particularly informative, especially\n",
    "    the diagrams on the feature importance &#x2013; using violin or scatter\n",
    "    plots might be more useful\n",
    "-   there must be a way to extract features found by different neural\n",
    "    networks and inject them into the new model to boost accuracy\n",
    "-   a diverse range of models should be tested &#x2013; only three frameworks\n",
    "    (XGBoost, Keras NN, Scikit stacking) were tested in the present\n",
    "    analysis &#x2013; and looking at, for example, H2o and LightGBM may help\n",
    "-   methodical approach to tweaking the model parameters should be\n",
    "    adopted &#x2013; predictions here were fine-tuned based on the shaky\n",
    "    understanding of the skimmed documentation, and a lot of them were\n",
    "    added in bulk\n",
    "\n",
    "There is a lot to learn, produce and share."
   ]
  }
 ],
 "metadata": {
  "kernelspec": {
   "display_name": "Python 3",
   "language": "python",
   "name": "python3"
  },
  "language_info": {
   "codemirror_mode": {
    "name": "ipython",
    "version": 3
   },
   "file_extension": ".py",
   "mimetype": "text/x-python",
   "name": "python",
   "nbconvert_exporter": "python",
   "pygments_lexer": "ipython3",
   "version": "3.5.3"
  },
  "org": null
 },
 "nbformat": 4,
 "nbformat_minor": 1
}
